{
 "cells": [
  {
   "cell_type": "code",
   "execution_count": 5,
   "metadata": {},
   "outputs": [],
   "source": [
    "import json\n",
    "from random import sample \n",
    "from dateutil.parser import parse\n",
    "\n",
    "from flask import Flask, render_template\n",
    "\n",
    "\n",
    "def date_parser(date):\n",
    "    tzinfos = {\"UTC\": 0}\n",
    "    date = parse(date, tzinfos=tzinfos)\n",
    "    return date.strftime(\"%Y.%m\")\n",
    "\n",
    "\n",
    "def rec_receiver():\n",
    "    with open('./result.json') as f:\n",
    "        data = json.load(f)\n",
    "    recs = sample(data, 3)\n",
    "    return recs\n",
    "\n",
    "\n",
    "def meta_filter(rec):\n",
    "    filtered_rec = {}\n",
    "    \n",
    "    # identifier\n",
    "    filtered_rec['owner'] = rec['owner']\n",
    "    filtered_rec['name'] = rec['name']\n",
    "    filtered_rec['image'] = rec['openGraphImageUrl']\n",
    "    \n",
    "    # time-related\n",
    "    filtered_rec['from'] = date_parser(rec['createdAt'])\n",
    "    filtered_rec['to'] = date_parser(rec['updatedAt'])\n",
    "    \n",
    "    # popularity\n",
    "    filtered_rec['language'] = \", \".join(rec['languages'][:3]) if 'languages' in rec else ''\n",
    "    filtered_rec['topics'] = \", \".join(rec['repositoryTopics'][:3]) if 'repositoryTopics' in rec else ''\n",
    "    filtered_rec['description'] = rec['description'][:200] if 'description' in rec else ''\n",
    "    \n",
    "    return filtered_rec\n",
    "    \n",
    "\n",
    "\n",
    "app = Flask(__name__)\n",
    "\n",
    "@app.route('/')\n",
    "@app.route('/index')\n",
    "def index():\n",
    "    recs = rec_receiver()\n",
    "    recs = [meta_filter(rec) for rec in recs]\n",
    "    \n",
    "    return render_template(\n",
    "                'search_result.html',\n",
    "                recs=recs)\n",
    "\n",
    "@app.route('/info')\n",
    "def info():\n",
    "    return render_template('search_result.html')\n"
   ]
  },
  {
   "cell_type": "code",
   "execution_count": 25,
   "metadata": {},
   "outputs": [
    {
     "ename": "TypeError",
     "evalue": "'NoneType' object is not subscriptable",
     "output_type": "error",
     "traceback": [
      "\u001b[0;31m---------------------------------------------------------------------------\u001b[0m",
      "\u001b[0;31mTypeError\u001b[0m                                 Traceback (most recent call last)",
      "\u001b[0;32m<ipython-input-25-363152175a0d>\u001b[0m in \u001b[0;36m<module>\u001b[0;34m\u001b[0m\n\u001b[1;32m      2\u001b[0m \u001b[0;34m\u001b[0m\u001b[0m\n\u001b[1;32m      3\u001b[0m \u001b[0;32mfor\u001b[0m \u001b[0mrec\u001b[0m \u001b[0;32min\u001b[0m \u001b[0mrecs\u001b[0m\u001b[0;34m:\u001b[0m\u001b[0;34m\u001b[0m\u001b[0;34m\u001b[0m\u001b[0m\n\u001b[0;32m----> 4\u001b[0;31m     \u001b[0mmeta_filter\u001b[0m\u001b[0;34m(\u001b[0m\u001b[0mrecs\u001b[0m\u001b[0;34m[\u001b[0m\u001b[0;36m0\u001b[0m\u001b[0;34m]\u001b[0m\u001b[0;34m)\u001b[0m\u001b[0;34m\u001b[0m\u001b[0;34m\u001b[0m\u001b[0m\n\u001b[0m",
      "\u001b[0;32m<ipython-input-5-c722f0574fc9>\u001b[0m in \u001b[0;36mmeta_filter\u001b[0;34m(rec)\u001b[0m\n\u001b[1;32m     34\u001b[0m     \u001b[0mfiltered_rec\u001b[0m\u001b[0;34m[\u001b[0m\u001b[0;34m'language'\u001b[0m\u001b[0;34m]\u001b[0m \u001b[0;34m=\u001b[0m \u001b[0;34m\", \"\u001b[0m\u001b[0;34m.\u001b[0m\u001b[0mjoin\u001b[0m\u001b[0;34m(\u001b[0m\u001b[0mrec\u001b[0m\u001b[0;34m[\u001b[0m\u001b[0;34m'languages'\u001b[0m\u001b[0;34m]\u001b[0m\u001b[0;34m[\u001b[0m\u001b[0;34m:\u001b[0m\u001b[0;36m3\u001b[0m\u001b[0;34m]\u001b[0m\u001b[0;34m)\u001b[0m \u001b[0;32mif\u001b[0m \u001b[0;34m'languages'\u001b[0m \u001b[0;32min\u001b[0m \u001b[0mrec\u001b[0m \u001b[0;32melse\u001b[0m \u001b[0;34m''\u001b[0m\u001b[0;34m\u001b[0m\u001b[0;34m\u001b[0m\u001b[0m\n\u001b[1;32m     35\u001b[0m     \u001b[0mfiltered_rec\u001b[0m\u001b[0;34m[\u001b[0m\u001b[0;34m'topics'\u001b[0m\u001b[0;34m]\u001b[0m \u001b[0;34m=\u001b[0m \u001b[0;34m\", \"\u001b[0m\u001b[0;34m.\u001b[0m\u001b[0mjoin\u001b[0m\u001b[0;34m(\u001b[0m\u001b[0mrec\u001b[0m\u001b[0;34m[\u001b[0m\u001b[0;34m'repositoryTopics'\u001b[0m\u001b[0;34m]\u001b[0m\u001b[0;34m[\u001b[0m\u001b[0;34m:\u001b[0m\u001b[0;36m3\u001b[0m\u001b[0;34m]\u001b[0m\u001b[0;34m)\u001b[0m \u001b[0;32mif\u001b[0m \u001b[0;34m'repositoryTopics'\u001b[0m \u001b[0;32min\u001b[0m \u001b[0mrec\u001b[0m \u001b[0;32melse\u001b[0m \u001b[0;34m''\u001b[0m\u001b[0;34m\u001b[0m\u001b[0;34m\u001b[0m\u001b[0m\n\u001b[0;32m---> 36\u001b[0;31m     \u001b[0mfiltered_rec\u001b[0m\u001b[0;34m[\u001b[0m\u001b[0;34m'description'\u001b[0m\u001b[0;34m]\u001b[0m \u001b[0;34m=\u001b[0m \u001b[0mrec\u001b[0m\u001b[0;34m[\u001b[0m\u001b[0;34m'description'\u001b[0m\u001b[0;34m]\u001b[0m\u001b[0;34m[\u001b[0m\u001b[0;34m:\u001b[0m\u001b[0;36m200\u001b[0m\u001b[0;34m]\u001b[0m \u001b[0;32mif\u001b[0m \u001b[0;34m'description'\u001b[0m \u001b[0;32min\u001b[0m \u001b[0mrec\u001b[0m \u001b[0;32melse\u001b[0m \u001b[0;34m''\u001b[0m\u001b[0;34m\u001b[0m\u001b[0;34m\u001b[0m\u001b[0m\n\u001b[0m\u001b[1;32m     37\u001b[0m \u001b[0;34m\u001b[0m\u001b[0m\n\u001b[1;32m     38\u001b[0m     \u001b[0;32mreturn\u001b[0m \u001b[0mfiltered_rec\u001b[0m\u001b[0;34m\u001b[0m\u001b[0;34m\u001b[0m\u001b[0m\n",
      "\u001b[0;31mTypeError\u001b[0m: 'NoneType' object is not subscriptable"
     ]
    }
   ],
   "source": [
    "recs = rec_receiver()\n",
    "\n",
    "for rec in recs:\n",
    "    meta_filter(recs[0])"
   ]
  },
  {
   "cell_type": "code",
   "execution_count": 27,
   "metadata": {},
   "outputs": [
    {
     "data": {
      "text/plain": [
       "{'_id': {'$oid': '5f5d863aa0b5433ae6b635a1'},\n",
       " 'id': 'MDEwOlJlcG9zaXRvcnkxNTAxMjkzNzY=',\n",
       " 'name': 'namespaced-routes-lab-online-web-sp-000',\n",
       " 'owner': 'learn-co-students',\n",
       " 'homepageUrl': None,\n",
       " 'openGraphImageUrl': 'https://avatars2.githubusercontent.com/u/8825476?s=400&v=4',\n",
       " 'createdAt': '2018-09-24T15:58:52Z',\n",
       " 'updatedAt': '2019-11-01T20:54:26Z',\n",
       " 'pushedAt': '2020-09-09T20:42:20Z',\n",
       " 'description': None,\n",
       " 'diskUsage': 524,\n",
       " 'forkCount': 213,\n",
       " 'hasWikiEnabled': False,\n",
       " 'hasIssuesEnabled': True,\n",
       " 'hasProjectsEnabled': True,\n",
       " 'isFork': False,\n",
       " 'isArchived': False,\n",
       " 'isDisabled': False,\n",
       " 'isEmpty': False,\n",
       " 'isLocked': False,\n",
       " 'isMirror': False,\n",
       " 'isPrivate': False,\n",
       " 'isTemplate': False,\n",
       " 'mergeCommitAllowed': True,\n",
       " 'watchers': 24,\n",
       " 'stargazers': 0,\n",
       " 'commitComments': 0,\n",
       " 'pullRequests': 205,\n",
       " 'releases': 0,\n",
       " 'primaryLanguage': 'Ruby',\n",
       " 'languages': ['Ruby', 'CSS', 'HTML'],\n",
       " 'issues': 0,\n",
       " 'labels': 9,\n",
       " 'licenseInfo': 'Other',\n",
       " 'deployments': 0,\n",
       " 'repositoryTopics': [],\n",
       " 'repo_id': 150129376}"
      ]
     },
     "execution_count": 27,
     "metadata": {},
     "output_type": "execute_result"
    }
   ],
   "source": [
    "rec"
   ]
  }
 ],
 "metadata": {
  "kernelspec": {
   "display_name": "Python 3",
   "language": "python",
   "name": "python3"
  },
  "language_info": {
   "codemirror_mode": {
    "name": "ipython",
    "version": 3
   },
   "file_extension": ".py",
   "mimetype": "text/x-python",
   "name": "python",
   "nbconvert_exporter": "python",
   "pygments_lexer": "ipython3",
   "version": "3.7.4"
  }
 },
 "nbformat": 4,
 "nbformat_minor": 2
}
